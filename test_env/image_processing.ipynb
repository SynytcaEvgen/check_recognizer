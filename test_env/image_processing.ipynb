{
 "cells": [
  {
   "cell_type": "markdown",
   "metadata": {},
   "source": [
    "# Image processing"
   ]
  },
  {
   "cell_type": "markdown",
   "metadata": {},
   "source": [
    "### Otsu Thresholding\n",
    "\n",
    "Let's now implement the Otsu thresholding algorithm. Remember that the algorithm consists of an optimization process that finds the thresholds that minimizes the intra-class variance or, equivalently, maximizes the inter-class variance.\n",
    "\n",
    "In this homework, you are going to demonstrate the working principle of the Otsu algorithm. Therefore, you won't have to worry about an efficient implementation, we are going to use the brute force approach here."
   ]
  },
  {
   "cell_type": "markdown",
   "metadata": {},
   "source": [
    "Finally, let's compare the original image and its thresholded representation."
   ]
  },
  {
   "cell_type": "markdown",
   "metadata": {},
   "source": []
  },
  {
   "cell_type": "code",
   "execution_count": null,
   "metadata": {},
   "outputs": [
    {
     "name": "stdout",
     "output_type": "stream",
     "text": [
      "Text: ~), Probability: 0.27411026607558053\n",
      "Text: С6 07 0 5599, Probability: 0.8158166389848389\n"
     ]
    }
   ],
   "source": [
    "import cv2\n",
    "import easyocr\n",
    "img = cv2.imread('fff.jpeg', 0)\n",
    "blur = cv2.GaussianBlur(img,(5,5),0)\n",
    "reader = easyocr.Reader(['bg'])\n",
    "result = reader.readtext(blur)\n",
    "for (bbox, text, prob) in result:\n",
    "    print(f'Text: {text}, Probability: {prob}')"
   ]
  },
  {
   "cell_type": "code",
   "execution_count": 26,
   "metadata": {},
   "outputs": [
    {
     "name": "stdout",
     "output_type": "stream",
     "text": [
      "Text: IND, Probability: 0.9993313212519453\n",
      "Text: CG 07 0 5599|, Probability: 0.20684694183980515\n"
     ]
    }
   ],
   "source": [
    "import cv2\n",
    "im_gray = cv2.imread('fff.jpeg', cv2.IMREAD_GRAYSCALE)\n",
    "\n",
    "(thresh, im_bw) = cv2.threshold(im_gray, 128, 255, cv2.THRESH_BINARY | cv2.THRESH_OTSU)\n",
    "\n",
    "thresh = 127\n",
    "im_bw = cv2.threshold(im_gray, thresh, 255, cv2.THRESH_BINARY)[1]\n",
    "reader = easyocr.Reader(['en'])\n",
    "result = reader.readtext(im_bw)\n",
    "for (bbox, text, prob) in result:\n",
    "    print(f'Text: {text}, Probability: {prob}')\n",
    "\n",
    "# cv2.imwrite('bw_image.png', im_bw)"
   ]
  }
 ],
 "metadata": {
  "kernelspec": {
   "display_name": "cv",
   "language": "python",
   "name": "python3"
  },
  "language_info": {
   "codemirror_mode": {
    "name": "ipython",
    "version": 3
   },
   "file_extension": ".py",
   "mimetype": "text/x-python",
   "name": "python",
   "nbconvert_exporter": "python",
   "pygments_lexer": "ipython3",
   "version": "3.12.7"
  }
 },
 "nbformat": 4,
 "nbformat_minor": 4
}
